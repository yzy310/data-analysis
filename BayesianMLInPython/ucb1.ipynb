{
 "cells": [
  {
   "cell_type": "markdown",
   "metadata": {},
   "source": [
    "# UCB1\n",
    "- Alg. keys:\n",
    "    - epsilon-greedy: small prob. of random exploration\n",
    "    - Optimistic - more naturally start at large value and fall into true mean\n",
    "    - UCB - use prob to get upper bound\n",
    "\n",
    "## UCB = Upper confidence bound\n",
    "Consider\n",
    "$$P(sample mean - true mean >= error) <= f(error)$$\n",
    "which means the prob of my error is bigger than some value is less than a function of error \n",
    "\n",
    "Exp.\n",
    "$$P(sample mean - true mean >= t) <= 1/t$$\n",
    "\n",
    "\n",
    "## Actual Inequalites\n",
    "- Markov inequality: RHS, f(error), decreases proportional to 1/t\n",
    "- Chebyshev inequality: RHS descreases proportional to $1/t^2$\n",
    "    - RHS decreases faster than Markov\n",
    "- Hoeffding's inequality\n",
    "$$P(\\bar{X}_n - E(X) \\geq t) \\leq e^{-2nt^2}$$\n",
    "\n",
    "It decreases exponentially in $t^2$ <br>\n",
    "(Extra reading: Finite-time Analysis of the Multiarmed Bandit Problem)\n",
    "\n",
    "\n",
    "## Pseudocode\n",
    "Loop: <br>\n",
    "&nbsp;&nbsp; $j=argmax_{j}(\\bar{X}_{n_j} + \\sqrt{2\\frac{logN}{n_j}})$\n",
    "\n",
    "<code># pull arm j, update bandit j's mean</code>\n",
    "\n",
    "- **Still greedy** with respect to this upper bound\n",
    "\n",
    "## Intuition\n",
    "- At the begining, not enough data, not confident, the upper bound of CI is large, will explore this bandit to collect data\n",
    "- After collecting data, estimate is acurate, dont need to explore this bandit, then only case to explore it is that the ture mean is large\n",
    "\n",
    "## Upper bound\n",
    "Let $p =e^{-2n_jt^2}$, solve for t:\n",
    "$$t=\\sqrt{\\frac{-\\log p}{2n_j}}$$\n",
    "We decide to set:\n",
    "$$p = N^{-4}$$\n",
    "where $N = N_1 + ... + N_j$\n"
   ]
  },
  {
   "cell_type": "code",
   "execution_count": 1,
   "metadata": {},
   "outputs": [],
   "source": [
    "import numpy as np\n",
    "import matplotlib.pyplot as plt\n",
    "NUM_TRIALS = 100000\n",
    "EPS = 0.1\n",
    "BANDIT_PROBABILITIES = [0.2, 0.5, 0.75]\n",
    "\n",
    "class Bandit:\n",
    "    def __init__(self, p):\n",
    "        # p is the true win rate of each bandit\n",
    "        self.p = p\n",
    "        self.p_estimate = 0\n",
    "        self.N = 0\n",
    "    def pull(self):\n",
    "        return int(np.random.random() < self.p)\n",
    "    \n",
    "    def update(self, x):\n",
    "        # x is the data for the bandit, either 0 or 1\n",
    "        self.N += 1\n",
    "        self.p_estimate = x / self.N + (self.N-1) / self.N * self.p_estimate\n",
    "        \n",
    "\n",
    "def ucb(mean, n, nj):\n",
    "    # 2 is a hyperparameter\n",
    "    return mean + np.sqrt(2*np.log(n) / nj)\n",
    "    \n",
    "    \n",
    "    \n",
    "def run_experiment():\n",
    "    bandits = [Bandit(p) for p in BANDIT_PROBABILITIES]\n",
    "    rewards = np.zeros(NUM_TRIALS)\n",
    "    total_plays = 0\n",
    "    \n",
    "    # initialization: play each bandit once\n",
    "    for j in range(len(bandits)):\n",
    "        x = bandits[j].pull()\n",
    "        total_plays += 1\n",
    "        bandits[j].update(x)\n",
    "        \n",
    "    # Experiment\n",
    "    for i in range(NUM_TRIALS):\n",
    "        j = np.argmax([ ucb(b.p_estimate, total_plays, b.N) for b in bandits ] )\n",
    "        x = bandits[j].pull()\n",
    "        total_plays +=1 \n",
    "        bandits[j].update(x)\n",
    "        \n",
    "        # for the plot\n",
    "        rewards[i] = x\n",
    "    cumulative_average = np.cumsum(rewards) / (np.arange(NUM_TRIALS) + 1)\n",
    "    \n",
    "    for b in bandits:\n",
    "        print(\"mean estimate:{0} (N={1})\".format(b.p_estimate, b.N))\n",
    "    print(\"total reward earned:\", rewards.sum())\n",
    "    print(\"overall win rate:\", rewards.sum()/ NUM_TRIALS)\n",
    "    \n",
    "    plt.plot(cumulative_average)\n",
    "    plt.plot(np.ones(NUM_TRIALS)*np.max(BANDIT_PROBABILITIES))\n",
    "    plt.xscale('log')\n",
    "    plt.show()"
   ]
  },
  {
   "cell_type": "code",
   "execution_count": 34,
   "metadata": {},
   "outputs": [
    {
     "name": "stdout",
     "output_type": "stream",
     "text": [
      "mean estimate:0.20270270270270266 (N=74)\n",
      "mean estimate:0.5157894736842109 (N=380)\n",
      "mean estimate:0.7484253985474439 (N=99549)\n",
      "total reward earned: 74715.0\n",
      "overall win rate: 0.74715\n"
     ]
    },
    {
     "data": {
      "image/png": "[encoded data removed]",
      "text/plain": [
       "<matplotlib.figure.Figure at 0x10fd68940>"
      ]
     },
     "metadata": {},
     "output_type": "display_data"
    }
   ],
   "source": [
    "run_experiment()"
   ]
  },
  {
   "cell_type": "code",
   "execution_count": null,
   "metadata": {},
   "outputs": [],
   "source": []
  }
 ],
 "metadata": {
  "kernelspec": {
   "display_name": "Python 3",
   "language": "python",
   "name": "python3"
  },
  "language_info": {
   "codemirror_mode": {
    "name": "ipython",
    "version": 3
   },
   "file_extension": ".py",
   "mimetype": "text/x-python",
   "name": "python",
   "nbconvert_exporter": "python",
   "pygments_lexer": "ipython3",
   "version": "3.5.2"
  }
 },
 "nbformat": 4,
 "nbformat_minor": 2
}
