{
 "cells": [
  {
   "cell_type": "markdown",
   "metadata": {},
   "source": [
    "# Hypothesis Testing"
   ]
  },
  {
   "cell_type": "markdown",
   "metadata": {},
   "source": [
    "## Definition of terms\n",
    "**Null hypothesis ($H_0$):** A hypothesis associated with a contradiction to a theory one would like to prove\n",
    "\n",
    "**Alternative hypothesis($H_0$):** A hypothesis (often composite) associated with a theory one would like to prove.\n",
    "\n",
    "**Type I error:** The first kind of error is the rejection of a true null hypothesis as the result of a test procedure. This kind of error is called a type I error (false positive) and is sometimes called an error of the first kind. Reject $H_0$ when it's true.\n",
    "\n",
    "**Type II error:** The second kind of error is the failure to reject a false null hypothesis as the result of a test procedure. This sort of error is called a type II error (false negative) and is also referred to as an error of the second kind. Accept $H_0$ when it's false\n",
    "\n",
    "**Power ($1-\\beta$)**\n",
    "\n",
    "**Significance level of a test ($\\alpha$)**\n",
    "\n",
    "**p-value:**\n",
    "The probability, assuming the null hypothesis is true, of observing a result at least as extreme as the test statistic"
   ]
  },
  {
   "cell_type": "markdown",
   "metadata": {},
   "source": [
    "# T-Test (student's t-test)\n",
    "## One sample t-test"
   ]
  },
  {
   "cell_type": "markdown",
   "metadata": {},
   "source": [
    "Suppose you have a sample of data and want to test if the population mean ($\\mu$) is 0, then we have\n",
    "\n",
    "\\begin{equation}\n",
    "H_0: \\mu=0   \\text{ v.s. }   H_1: \\mu \\neq 0\n",
    "\\end{equation}"
   ]
  },
  {
   "cell_type": "code",
   "execution_count": null,
   "metadata": {},
   "outputs": [],
   "source": []
  },
  {
   "cell_type": "code",
   "execution_count": null,
   "metadata": {},
   "outputs": [],
   "source": []
  },
  {
   "cell_type": "code",
   "execution_count": null,
   "metadata": {},
   "outputs": [],
   "source": []
  },
  {
   "cell_type": "markdown",
   "metadata": {},
   "source": [
    "# One sample t-test\n",
    "\n",
    "* [One sample t-test](#first-bullet)\n",
    "* [Two sample t-test](#second-bullet)"
   ]
  },
  {
   "cell_type": "markdown",
   "metadata": {},
   "source": [
    "# Power Analysis"
   ]
  },
  {
   "cell_type": "code",
   "execution_count": null,
   "metadata": {},
   "outputs": [],
   "source": []
  }
 ],
 "metadata": {
  "kernelspec": {
   "display_name": "Python 3",
   "language": "python",
   "name": "python3"
  },
  "language_info": {
   "codemirror_mode": {
    "name": "ipython",
    "version": 3
   },
   "file_extension": ".py",
   "mimetype": "text/x-python",
   "name": "python",
   "nbconvert_exporter": "python",
   "pygments_lexer": "ipython3",
   "version": "3.7.3"
  },
  "toc-autonumbering": false,
  "toc-showcode": true,
  "toc-showmarkdowntxt": true,
  "toc-showtags": false
 },
 "nbformat": 4,
 "nbformat_minor": 4
}
