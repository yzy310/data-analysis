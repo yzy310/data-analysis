{
 "cells": [
  {
   "cell_type": "markdown",
   "metadata": {},
   "source": [
    "# Optimistic Initial values\n",
    "- no need for epsilon/random exploration\n",
    "- initialize mean to very large value (overestimating the mean)\\\n",
    "- Be greedy\n",
    "- Early in experiment:\n",
    "    - Less data\n",
    "    - Estimated mean is large\n",
    "- Later in experiment:\n",
    "    - Lots of data collected\n",
    "    - Estimated mean continues to get smaller, but will it converage to true mean?\n",
    "  \n"
   ]
  },
  {
   "cell_type": "code",
   "execution_count": 4,
   "metadata": {},
   "outputs": [],
   "source": [
    "# #Pseudocode\n",
    "# class Bandit:\n",
    "#     def __init__(self, p):\n",
    "#         self.p = p\n",
    "#         self.p_estimate = 10 # Very large initial value\n",
    "\n",
    "# # Greedy loop\n",
    "# for n in range(NUM_TRIALS):\n",
    "#     j = argmax(b.p_estimate for b in bandits)\n",
    "#     ..."
   ]
  },
  {
   "cell_type": "markdown",
   "metadata": {},
   "source": [
    "### Will the sample means converge?\n",
    "No !\n",
    "- Because we are being greedy, there is no guarantee we'll collect a large numner of samples for each bandit\n",
    "- If the estimated mean of one bandit goes below the max estimated mean, we'll stop exploring it immediately\n",
    "\n",
    "### Role of Initial Value\n",
    "- High initial value = more exploration \n",
    "- less high = less exploration\n",
    "- It's a **hyperparameter** that controls the amount of exploration"
   ]
  },
  {
   "cell_type": "code",
   "execution_count": 8,
   "metadata": {},
   "outputs": [],
   "source": [
    "import matplotlib.pyplot as plt\n",
    "import numpy as np\n",
    "\n",
    "NUM_TRIALS = 10000\n",
    "EPS = 0.1\n",
    "BANDIT_PROBABILITIES = [0.2, 0.5, 0.75]\n",
    "\n",
    "class Bandit:\n",
    "    def __init__(self, p):\n",
    "        # p is the true win rate of each bandit\n",
    "        self.p = p\n",
    "        self.p_estimate = 5. # it should be a larve initial value\n",
    "        self.N = 1. # Note: you have to initialize N to 1 to count 5 as a sample!!!!\n",
    "        \n",
    "    def pull(self):\n",
    "        # Draw a 1 with probability p\n",
    "        return np.random.random() < self.p\n",
    "    \n",
    "    def update(self, x):\n",
    "        # x is the data for the bandit, either 0 or 1\n",
    "        self.N += 1\n",
    "        self.p_estimate = x/self.N + (self.N-1)/self.N * self.p_estimate\n",
    "\n",
    "def experiment():\n",
    "    bandits = [Bandit(p) for p in BANDIT_PROBABILITIES]\n",
    "    \n",
    "    rewards = np.zeros(NUM_TRIALS)\n",
    "\n",
    "    for i in range(NUM_TRIALS):\n",
    "        \n",
    "        #use optimistic initial value to select the next badit\n",
    "        j = np.argmax([b.p_estimate for b in bandits])\n",
    "\n",
    "        # pull the arm for the j-th bandit \n",
    "        x = bandits[j].pull()\n",
    "\n",
    "        # update the reward log\n",
    "        rewards[i] = x\n",
    "\n",
    "        # update the the estimate for j-th bandit\n",
    "        bandits[j].update(x)\n",
    "    \n",
    "    \n",
    "    for b in bandits:\n",
    "        print(\"mean estimate:{0} (N={1})\".format(b.p_estimate, b.N))\n",
    "        \n",
    "    #print total reward\n",
    "    print(\"total reward earned:\", rewards.sum())\n",
    "    print(\"overall win rate:\", rewards.sum()/ NUM_TRIALS)\n",
    "    print(\"num_times selected each bandit:\", [b.N for b in bandits])\n",
    "    \n",
    "    cumulative_rewards = np.cumsum(rewards)\n",
    "    win_rates = cumulative_rewards / (np.arange(NUM_TRIALS) + 1)\n",
    "    plt.ylim(0,1)\n",
    "    plt.plot(win_rates)\n",
    "    plt.plot(np.ones(NUM_TRIALS)*np.max(BANDIT_PROBABILITIES))\n",
    "    plt.show()\n",
    "    \n",
    "    "
   ]
  },
  {
   "cell_type": "code",
   "execution_count": 9,
   "metadata": {},
   "outputs": [
    {
     "name": "stdout",
     "output_type": "stream",
     "text": [
      "mean estimate:0.7000000000000002 (N=10.0)\n",
      "mean estimate:0.7083333333333333 (N=24.0)\n",
      "mean estimate:0.751429431236836 (N=9969.0)\n",
      "total reward earned: 7500.0\n",
      "overall win rate: 0.75\n",
      "num_times selected each bandit: [10.0, 24.0, 9969.0]\n"
     ]
    },
    {
     "data": {
      "image/png": "[encoded data removed]",
      "text/plain": [
       "<matplotlib.figure.Figure at 0x10fe76f60>"
      ]
     },
     "metadata": {},
     "output_type": "display_data"
    }
   ],
   "source": [
    "experiment()"
   ]
  },
  {
   "cell_type": "markdown",
   "metadata": {},
   "source": [
    "- The sample mean converges to true mean of the optimal bandit\n",
    "- For suboptimal bandits, if their estimated means go below this range: (5, 0.75), they will be stopping being updated"
   ]
  },
  {
   "cell_type": "code",
   "execution_count": null,
   "metadata": {},
   "outputs": [],
   "source": []
  }
 ],
 "metadata": {
  "kernelspec": {
   "display_name": "Python 3",
   "language": "python",
   "name": "python3"
  },
  "language_info": {
   "codemirror_mode": {
    "name": "ipython",
    "version": 3
   },
   "file_extension": ".py",
   "mimetype": "text/x-python",
   "name": "python",
   "nbconvert_exporter": "python",
   "pygments_lexer": "ipython3",
   "version": "3.5.2"
  }
 },
 "nbformat": 4,
 "nbformat_minor": 2
}
