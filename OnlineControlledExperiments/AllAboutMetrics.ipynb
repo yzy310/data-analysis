{
 "cells": [
  {
   "cell_type": "markdown",
   "id": "ba8c27c8",
   "metadata": {},
   "source": [
    "# Organizational Metrics"
   ]
  },
  {
   "cell_type": "markdown",
   "id": "247e9c8f",
   "metadata": {},
   "source": [
    "## Metrics Taxonomy\n",
    "### Goal Metrics\n",
    "Goal metrics, success metrics or true north metrics, reflect what the organization ultimately cares about.\n",
    "- Why does your product exist?\n",
    "- What does success look like for your organization?\n",
    "\n",
    "### Driver Metrics\n",
    "Driver metrics tend to be short-term, faster-moving and more-sensitive metrics than goal metrics, they reflect a mental causal model of what it takes for the organization to succeed, that is, hypothesis on the drivers of success rather than just what success look like.\n",
    "\n",
    "Frameworks for thinking about what drives success:\n",
    "\n",
    "- The HEART framewrok\n",
    "    - Happiness\n",
    "    - Engagement\n",
    "    - Adoption\n",
    "    - Retention\n",
    "    - Task Success \n",
    "    \n",
    "- AARRR! framework\n",
    "    - Acquisition\n",
    "    - Activation\n",
    "    - Retention\n",
    "    - Referral\n",
    "    - Revenue\n",
    "\n",
    "A good driver metric indicates that we are moving in the right direction to move the goal metrics.\n",
    "\n"
   ]
  },
  {
   "cell_type": "code",
   "execution_count": null,
   "id": "2f5caacf",
   "metadata": {},
   "outputs": [],
   "source": []
  }
 ],
 "metadata": {
  "kernelspec": {
   "display_name": "Python 3",
   "language": "python",
   "name": "python3"
  },
  "language_info": {
   "codemirror_mode": {
    "name": "ipython",
    "version": 3
   },
   "file_extension": ".py",
   "mimetype": "text/x-python",
   "name": "python",
   "nbconvert_exporter": "python",
   "pygments_lexer": "ipython3",
   "version": "3.7.3"
  },
  "toc-autonumbering": false,
  "toc-showcode": false
 },
 "nbformat": 4,
 "nbformat_minor": 5
}
