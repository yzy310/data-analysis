{
 "cells": [
  {
   "cell_type": "markdown",
   "id": "d9d99acf",
   "metadata": {},
   "source": [
    "# Overview\n",
    "\n",
    "The goal of this notebook is to implement Delta Method for constructing Confidence Intervals (variance estimation) for ratio metrics, which is presendted in details in this paper [Applying the Delta Method in Metric Analytics: A Practical Guide with Novel Ideas](https://alexdeng.github.io/public/files/kdd2018-dm.pdf). We will also study the Numerical examples included in the paper.\n",
    "\n",
    "\n",
    "\n",
    "# Problem 1 - Relative Difference or Percent Change\n",
    "Let $X_1, X_2, ...X_n$ be i.i.d. observations from the control group with mean $\\mu_x$ and variance $\\sigma^2_x$, $Y_1, Y_2, ...Y_n$ be i.i.d. observations from the treatment group with mean $\\mu_y$ and variance $\\sigma^2_y$\n",
    "\n",
    "Let absolute difference be $\\hat{\\Delta} = \\bar{Y}-\\bar{X}$, then we know \n",
    "$$Var(\\hat{\\Delta} ) = (\\sigma^2_y+\\sigma^2_x-2\\sigma_{xy})/n .$$\n",
    "\n",
    "The 100(1-$\\alpha$)\\% confidence interval of $\\Delta$ is $\\hat{\\Delta} \\pm z_{\\alpha} \\times \\widehat{Var}(\\hat{\\Delta})$, where  $\\widehat{Var}(\\hat{\\Delta}) = (s_y^2 + s_x^2 - 2s_{xy})/n$\n",
    "\n",
    "Let relative difference (scale-invariant) be $\\hat{\\Delta}\\% = (\\bar{Y}-\\bar{X})/\\bar{X}$, the problem is contructing a 100(1-$\\alpha$)\\% confidence interval for  $\\hat{\\Delta}\\%$\n",
    "\n",
    "# Solution: Delta Method\n",
    "\n",
    "$$\\frac{\\bar{Y}}{\\bar{X}} - 1 \\pm \\frac{z_{\\alpha/2}}{\\sqrt{n}\\bar{X}} \\sqrt{s_y^2 - 2\\frac{\\bar{Y}}{\\bar{X}}s_{xy} + \\frac{\\bar{Y}^2}{\\bar{X}^2}s_x^2  },$$\n",
    "Where $\\frac{\\bar{Y}}{\\bar{X}} - 1$ is the point estimate, and a second-order bias correction term\n",
    "\n",
    "$$\\frac{\\bar{Y}s_x^2/\\bar{X} - s_{xy}}{(n\\bar{X})^2} = \\bar{Y}/\\bar{X}^3 \\times s_x^2/n - 1/\\bar{X}^2 \\times s_{xy}/n$$\n",
    "\n",
    "should also be added to the point estimate\n",
    "# "
   ]
  },
  {
   "cell_type": "markdown",
   "id": "9151595a",
   "metadata": {},
   "source": [
    "# Python Implementation"
   ]
  },
  {
   "cell_type": "code",
   "execution_count": 88,
   "id": "4fa3d48d",
   "metadata": {},
   "outputs": [],
   "source": [
    "import numpy as np\n",
    "from scipy.stats import norm\n",
    "\n",
    "def relative_diff_var_est(x, y, alpha=0.05):\n",
    "    n = len(x)\n",
    "    \n",
    "    x_bar = np.mean(x)\n",
    "    y_bar = np.mean(y)\n",
    "    \n",
    "    s2_x = np.var(x)\n",
    "    s2_y = np.var(y)\n",
    "    s_xy = np.cov(x, y)[1,1]\n",
    "    \n",
    "    bias_correction = y_bar/x_bar**3 * s2_x/n - 1/x_bar^2 * s_xy/n\n",
    "    \n",
    "    point_est = y_bar/x_bar - 1 + bias_correction\n",
    "    \n",
    "    var_est = s2_y/x_bar**2 - 2 * (y_bar/x_bar**3) * s_xy + (y_bar**2/x_bar**4) * s2_X\n",
    "    \n",
    "    return var_est\n",
    "\n",
    "def relative_diff_ci(x, y, alpha=0.05):\n",
    "    n = len(x)\n",
    "    \n",
    "    x_bar = np.mean(x)\n",
    "    y_bar = np.mean(y)\n",
    "    \n",
    "    s2_x = np.var(x)\n",
    "    s2_y = np.var(y)\n",
    "    s_xy = np.cov(x, y)[0,1]\n",
    "\n",
    "    bias_correction = y_bar/x_bar**3 * s2_x/n - 1/x_bar**2 * s_xy/n\n",
    "    \n",
    "    point_est = y_bar/x_bar - 1 + bias_correction\n",
    "    \n",
    "    var_est = s2_y/x_bar**2 - 2 * (y_bar/x_bar**3) * s_xy + (y_bar**2/x_bar**4) * s2_x\n",
    "    \n",
    "    ci_lower = point_est - norm.ppf(1-alpha/2) * np.sqrt(var_est/n)\n",
    "    \n",
    "    ci_upper = point_est + norm.ppf(1-alpha/2) * np.sqrt(var_est/n)\n",
    "    \n",
    "    return ci_lower, ci_upper\n",
    "    "
   ]
  },
  {
   "cell_type": "markdown",
   "id": "4cb3a098",
   "metadata": {},
   "source": [
    "# Numerical Examples"
   ]
  },
  {
   "cell_type": "markdown",
   "id": "30daa6c7",
   "metadata": {},
   "source": [
    "$X_i \\sim N(1, 0.1), Y_i \\sim N(1.1, 0.1)$\n",
    "\n",
    "$\\Delta = 10\\%$"
   ]
  },
  {
   "cell_type": "code",
   "execution_count": 109,
   "id": "0b46b8c1",
   "metadata": {},
   "outputs": [],
   "source": [
    "sample_sizes = [50, 200, 2000, 2500, 5000, 10000, 20000]"
   ]
  },
  {
   "cell_type": "code",
   "execution_count": 110,
   "id": "19cb3408",
   "metadata": {},
   "outputs": [],
   "source": [
    "coverage_rates = []\n",
    "true_relative_diff = 0.1\n",
    "for size in sample_sizes:\n",
    "    data_temp = []\n",
    "    for i in range(10000):\n",
    "        x = np.random.normal(1, 0.1, size)\n",
    "        y = np.random.normal(1.1, 0.1, size)\n",
    "        ci_lower, ci_upper = relative_diff_ci(x,y)\n",
    "        covered = ci_lower <= true_relative_diff and ci_upper >= true_relative_diff\n",
    "        data_temp.append(covered)\n",
    "    coverage_rates.append(np.mean(data_temp))\n"
   ]
  },
  {
   "cell_type": "code",
   "execution_count": 111,
   "id": "c7e25238",
   "metadata": {},
   "outputs": [],
   "source": [
    "data = pd.DataFrame({\"sample_size\":sample_sizes, \"coverage_rate\": coverage_rates})"
   ]
  },
  {
   "cell_type": "code",
   "execution_count": 112,
   "id": "06b5a8ab",
   "metadata": {},
   "outputs": [
    {
     "data": {
      "text/html": [
       "<div>\n",
       "<style scoped>\n",
       "    .dataframe tbody tr th:only-of-type {\n",
       "        vertical-align: middle;\n",
       "    }\n",
       "\n",
       "    .dataframe tbody tr th {\n",
       "        vertical-align: top;\n",
       "    }\n",
       "\n",
       "    .dataframe thead th {\n",
       "        text-align: right;\n",
       "    }\n",
       "</style>\n",
       "<table border=\"1\" class=\"dataframe\">\n",
       "  <thead>\n",
       "    <tr style=\"text-align: right;\">\n",
       "      <th></th>\n",
       "      <th>sample_size</th>\n",
       "      <th>coverage_rate</th>\n",
       "    </tr>\n",
       "  </thead>\n",
       "  <tbody>\n",
       "    <tr>\n",
       "      <th>0</th>\n",
       "      <td>50</td>\n",
       "      <td>0.9431</td>\n",
       "    </tr>\n",
       "    <tr>\n",
       "      <th>1</th>\n",
       "      <td>200</td>\n",
       "      <td>0.9503</td>\n",
       "    </tr>\n",
       "    <tr>\n",
       "      <th>2</th>\n",
       "      <td>2000</td>\n",
       "      <td>0.9516</td>\n",
       "    </tr>\n",
       "    <tr>\n",
       "      <th>3</th>\n",
       "      <td>2500</td>\n",
       "      <td>0.9494</td>\n",
       "    </tr>\n",
       "    <tr>\n",
       "      <th>4</th>\n",
       "      <td>5000</td>\n",
       "      <td>0.9472</td>\n",
       "    </tr>\n",
       "    <tr>\n",
       "      <th>5</th>\n",
       "      <td>10000</td>\n",
       "      <td>0.9496</td>\n",
       "    </tr>\n",
       "    <tr>\n",
       "      <th>6</th>\n",
       "      <td>20000</td>\n",
       "      <td>0.9512</td>\n",
       "    </tr>\n",
       "  </tbody>\n",
       "</table>\n",
       "</div>"
      ],
      "text/plain": [
       "   sample_size  coverage_rate\n",
       "0           50         0.9431\n",
       "1          200         0.9503\n",
       "2         2000         0.9516\n",
       "3         2500         0.9494\n",
       "4         5000         0.9472\n",
       "5        10000         0.9496\n",
       "6        20000         0.9512"
      ]
     },
     "execution_count": 112,
     "metadata": {},
     "output_type": "execute_result"
    }
   ],
   "source": [
    "data"
   ]
  },
  {
   "cell_type": "markdown",
   "id": "af3e0267",
   "metadata": {},
   "source": [
    "$X_i \\sim Ber(0.5), Y_i \\sim Ber(0.6)$\n",
    "\n",
    "$\\Delta = 20\\%$"
   ]
  },
  {
   "cell_type": "code",
   "execution_count": 115,
   "id": "d32d25c1",
   "metadata": {},
   "outputs": [],
   "source": [
    "sample_sizes = [50, 200, 2000, 2500, 5000, 10000, 20000]\n",
    "coverage_rates = []\n",
    "true_relative_diff = 0.2\n",
    "for size in sample_sizes:\n",
    "    data_temp = []\n",
    "    for i in range(10000):\n",
    "        x = np.random.binomial(1, 0.5, size)\n",
    "        y = np.random.binomial(1, 0.6, size)\n",
    "        ci_lower, ci_upper = relative_diff_ci(x,y)\n",
    "        covered = ci_lower <= true_relative_diff and ci_upper >= true_relative_diff\n",
    "        data_temp.append(covered)\n",
    "    coverage_rates.append(np.mean(data_temp))\n"
   ]
  },
  {
   "cell_type": "code",
   "execution_count": 116,
   "id": "4c8c89a2",
   "metadata": {},
   "outputs": [],
   "source": [
    "data = pd.DataFrame({\"sample_size\":sample_sizes, \"coverage_rate\": coverage_rates})"
   ]
  },
  {
   "cell_type": "code",
   "execution_count": 117,
   "id": "ddebc5d8",
   "metadata": {},
   "outputs": [
    {
     "data": {
      "text/html": [
       "<div>\n",
       "<style scoped>\n",
       "    .dataframe tbody tr th:only-of-type {\n",
       "        vertical-align: middle;\n",
       "    }\n",
       "\n",
       "    .dataframe tbody tr th {\n",
       "        vertical-align: top;\n",
       "    }\n",
       "\n",
       "    .dataframe thead th {\n",
       "        text-align: right;\n",
       "    }\n",
       "</style>\n",
       "<table border=\"1\" class=\"dataframe\">\n",
       "  <thead>\n",
       "    <tr style=\"text-align: right;\">\n",
       "      <th></th>\n",
       "      <th>sample_size</th>\n",
       "      <th>coverage_rate</th>\n",
       "    </tr>\n",
       "  </thead>\n",
       "  <tbody>\n",
       "    <tr>\n",
       "      <th>0</th>\n",
       "      <td>50</td>\n",
       "      <td>0.9441</td>\n",
       "    </tr>\n",
       "    <tr>\n",
       "      <th>1</th>\n",
       "      <td>200</td>\n",
       "      <td>0.9511</td>\n",
       "    </tr>\n",
       "    <tr>\n",
       "      <th>2</th>\n",
       "      <td>2000</td>\n",
       "      <td>0.9458</td>\n",
       "    </tr>\n",
       "    <tr>\n",
       "      <th>3</th>\n",
       "      <td>2500</td>\n",
       "      <td>0.9510</td>\n",
       "    </tr>\n",
       "    <tr>\n",
       "      <th>4</th>\n",
       "      <td>5000</td>\n",
       "      <td>0.9481</td>\n",
       "    </tr>\n",
       "    <tr>\n",
       "      <th>5</th>\n",
       "      <td>10000</td>\n",
       "      <td>0.9535</td>\n",
       "    </tr>\n",
       "    <tr>\n",
       "      <th>6</th>\n",
       "      <td>20000</td>\n",
       "      <td>0.9512</td>\n",
       "    </tr>\n",
       "  </tbody>\n",
       "</table>\n",
       "</div>"
      ],
      "text/plain": [
       "   sample_size  coverage_rate\n",
       "0           50         0.9441\n",
       "1          200         0.9511\n",
       "2         2000         0.9458\n",
       "3         2500         0.9510\n",
       "4         5000         0.9481\n",
       "5        10000         0.9535\n",
       "6        20000         0.9512"
      ]
     },
     "execution_count": 117,
     "metadata": {},
     "output_type": "execute_result"
    }
   ],
   "source": [
    "data"
   ]
  },
  {
   "cell_type": "markdown",
   "id": "f5148df0",
   "metadata": {},
   "source": [
    "# Problem 2 - Cluster Randomization\n",
    "Two concepts:\n",
    "- Randomizaiton unit: the granularity level where sampling or randomization is performed\n",
    "- Analysis unit: the aggregation level of metric computation\n",
    "\n",
    "Many important metrics come from the ratio of two metrics. For example\n",
    "$$click-through \\  rate = \\frac{total \\ clicks}{total \\ pageviews} = \\frac{total \\ clicks\\ /\\ \\#\\ users}{total \\ pageviews\\ /\\ \\#\\ users} = \\frac{clicks\\ per\\ user}{pageviews\\ per\\ user},$$\n",
    "\\\n",
    "$$revenue\\ per\\ click = \\frac{total \\ revenue}{total \\ clicks} = \\frac{total \\ revenue\\ /\\ \\#\\ users}{total \\ clicks\\ /\\ \\#\\ users} = \\frac{revenue\\ per\\ user}{clicks\\ per\\ user},$$\n",
    "\n",
    "\n",
    "the analysis unit is no longer a user, but a pageview or a click, when the experiment is randomized by the unit of a user, this can create challenge for estimating variance and constructing confidence intervals.\n",
    "\n",
    "Suppose there are $K$ clusters (users) in treatment group. For $i=1,...,K$, the $i$th cluster contains $N_i$ analysis unit level observations $Y_{ij}$, $j=1,...,N_i$, the metric we are interested in is $\\bar{Y} = \\Sigma_{i,j} Y_{ij}/\\Sigma_iN_i$. Usually for $i$th cluster(user), $Y_{i1}, ... Y_{iN_i}$ are correlated (within user correlation), which is why we can't directly apply traditional sample variance formula to estimate variance where ovservations are independent.\n",
    "\n",
    "\n",
    "# Solution\n",
    "Re-write $\\bar{Y}$ into $\\Sigma_i(\\Sigma_jY_{ij})/\\Sigma N_i$, let $S_i = \\Sigma_jY_{ij}$ and divide both the numerator and denominator by $K$,\n",
    "\n",
    "$$\\bar{Y} = \\frac{\\Sigma_iS_i/K}{\\Sigma_iN_i/K} =\\frac{\\bar{S}}{\\bar{N}},$$\n",
    "\n",
    "then based on previous results we have\n",
    "\n",
    "$$Var(\\bar{Y}) = Var(\\frac{\\bar{S}}{\\bar{N}} ) = \\frac{1}{K\\mu_N^2} (\\, \\sigma_S^2 - 2\\frac{\\mu_S}{\\mu_N}\\sigma_{SN} + \\frac{\\mu_S^2}{\\mu_N^2}\\sigma_N^2  )$$\n",
    "\n",
    "- Both the variance of the cluster size $N_i$ and variance of the within-cluster sum of observations $S_i$, contribute to $Var(\\bar{Y})$\n",
    "- $\\sigma_N^2$ is an important contributor, so it's desirable to make the cluster sizs homogeneous, otherwise small treatment effect is difficult to detest due to large variance (low statistical power)."
   ]
  },
  {
   "cell_type": "markdown",
   "id": "3317c317",
   "metadata": {},
   "source": [
    "# Numerical Examples"
   ]
  },
  {
   "cell_type": "markdown",
   "id": "a98192c0",
   "metadata": {},
   "source": [
    "K = 1000\n",
    "$$(M_1, M_2, M_3) \\sim Multi-nomial\\{n=K; p=(1/3, 1/2, 1/6)\\}$$\n",
    "\n",
    "For the ith cluster (user), we have:\n",
    "- Small: $N_i \\sim Poisson(2)$, $\\mu_i \\sim N(0.3, 0.05)$\n",
    "- Medium: $N_i \\sim Poisson(5)$, $\\mu_i \\sim N(0.5, 0.1)$\n",
    "- Large: $N_i \\sim Poisson(30)$, $\\mu_i \\sim N(0.8, 0.05).$\n",
    "\n",
    "Then, for each fixed $i$, let $Y_{ij} \\sim Bernoulli(p=\\mu_i)$ for all $j = 1, ..., N_i$, then we know $S_i | N_i \\sim Binomial(N_i, \\mu_i)$"
   ]
  },
  {
   "cell_type": "code",
   "execution_count": 171,
   "id": "13c10239",
   "metadata": {},
   "outputs": [],
   "source": [
    "M_list = list(np.random.multinomial(1000, [1/3, 1/2, 1/6], size=1)[0])"
   ]
  },
  {
   "cell_type": "code",
   "execution_count": 221,
   "id": "488e3523",
   "metadata": {},
   "outputs": [],
   "source": [
    "data_mean = []\n",
    "data_std = []\n",
    "for d in range(20):\n",
    "    obs = []\n",
    "    M_list = list(np.random.multinomial(1000, [1/3, 1/2, 1/6], size=1)[0])\n",
    "    for M in M_list:\n",
    "        c = M_list.index(M)\n",
    "        for i in range(M):\n",
    "            mu_i = -1\n",
    "            while mu_i < 0 or mu_i > 1:\n",
    "                if c == 0:\n",
    "                    n_i = np.random.poisson(2, 1) \n",
    "                    mu_i = np.random.normal(0.3, np.sqrt(0.05), 1)\n",
    "                elif c == 1:\n",
    "                    n_i = np.random.poisson(5, 1) \n",
    "                    mu_i = np.random.normal(0.5, np.sqrt(0.1), 1)\n",
    "                else:\n",
    "                    n_i = np.random.poisson(30, 1) \n",
    "                    mu_i = np.random.normal(0.8, np.sqrt(0.05), 1)\n",
    "\n",
    "            y_i = np.random.binomial(1, mu_i, n_i)\n",
    "            obs+=list(y_i)\n",
    "    data_mean.append(np.mean(obs))\n",
    "    data_std.append(np.std(obs)/np.sqrt(len(obs)))"
   ]
  },
  {
   "cell_type": "code",
   "execution_count": 222,
   "id": "45028679",
   "metadata": {},
   "outputs": [
    {
     "data": {
      "text/plain": [
       "20"
      ]
     },
     "execution_count": 222,
     "metadata": {},
     "output_type": "execute_result"
    }
   ],
   "source": [
    "len(data_std)"
   ]
  },
  {
   "cell_type": "code",
   "execution_count": 223,
   "id": "fe03c374",
   "metadata": {},
   "outputs": [
    {
     "data": {
      "text/plain": [
       "0.005373516479861186"
      ]
     },
     "execution_count": 223,
     "metadata": {},
     "output_type": "execute_result"
    }
   ],
   "source": [
    "np.mean(data_std)"
   ]
  },
  {
   "cell_type": "code",
   "execution_count": 224,
   "id": "db18c661",
   "metadata": {},
   "outputs": [
    {
     "data": {
      "text/plain": [
       "0.6272364457815089"
      ]
     },
     "execution_count": 224,
     "metadata": {},
     "output_type": "execute_result"
    }
   ],
   "source": [
    "np.mean(data_mean)"
   ]
  },
  {
   "cell_type": "code",
   "execution_count": 220,
   "id": "7e497cc9",
   "metadata": {},
   "outputs": [
    {
     "data": {
      "text/plain": [
       "0.012497538275029887"
      ]
     },
     "execution_count": 220,
     "metadata": {},
     "output_type": "execute_result"
    }
   ],
   "source": [
    "np.std(data_mean)"
   ]
  },
  {
   "cell_type": "code",
   "execution_count": null,
   "id": "b9b68d06",
   "metadata": {},
   "outputs": [],
   "source": []
  },
  {
   "cell_type": "code",
   "execution_count": 194,
   "id": "7864b98c",
   "metadata": {},
   "outputs": [
    {
     "data": {
      "text/plain": [
       "888"
      ]
     },
     "execution_count": 194,
     "metadata": {},
     "output_type": "execute_result"
    }
   ],
   "source": [
    "len(data_mean)"
   ]
  },
  {
   "cell_type": "code",
   "execution_count": 161,
   "id": "6c1d47c5",
   "metadata": {},
   "outputs": [
    {
     "data": {
      "text/plain": [
       "0.6730033476805356"
      ]
     },
     "execution_count": 161,
     "metadata": {},
     "output_type": "execute_result"
    }
   ],
   "source": [
    "np.mean(obs)"
   ]
  },
  {
   "cell_type": "code",
   "execution_count": 163,
   "id": "1ac0d0a7",
   "metadata": {},
   "outputs": [
    {
     "data": {
      "text/plain": [
       "2.6311554482463853e-05"
      ]
     },
     "execution_count": 163,
     "metadata": {},
     "output_type": "execute_result"
    }
   ],
   "source": [
    "np.var(obs)/len(obs)"
   ]
  },
  {
   "cell_type": "code",
   "execution_count": 167,
   "id": "f94ed614",
   "metadata": {},
   "outputs": [
    {
     "data": {
      "text/plain": [
       "0.005129478967932694"
      ]
     },
     "execution_count": 167,
     "metadata": {},
     "output_type": "execute_result"
    }
   ],
   "source": [
    "np.std(obs)/np.sqrt(len(obs))"
   ]
  },
  {
   "cell_type": "code",
   "execution_count": 122,
   "id": "c1569355",
   "metadata": {},
   "outputs": [],
   "source": [
    "k1 = 333\n",
    "k2 = 500\n",
    "k3 = 167"
   ]
  },
  {
   "cell_type": "code",
   "execution_count": 123,
   "id": "4c5f1377",
   "metadata": {},
   "outputs": [
    {
     "data": {
      "text/plain": [
       "1000"
      ]
     },
     "execution_count": 123,
     "metadata": {},
     "output_type": "execute_result"
    }
   ],
   "source": [
    "k1+k2+k3"
   ]
  },
  {
   "cell_type": "code",
   "execution_count": 124,
   "id": "dd201ff3",
   "metadata": {},
   "outputs": [
    {
     "data": {
      "text/plain": [
       "221.65"
      ]
     },
     "execution_count": 124,
     "metadata": {},
     "output_type": "execute_result"
    }
   ],
   "source": [
    "0.3*0.7 * 333 + 0.5*0.5*500 + 0.8*0.2*167"
   ]
  },
  {
   "cell_type": "code",
   "execution_count": 125,
   "id": "091f8651",
   "metadata": {},
   "outputs": [],
   "source": [
    "mu_s = 2*0.3* (1/3) + 5*0.5*0.5 + 30*0.8*1/6"
   ]
  },
  {
   "cell_type": "code",
   "execution_count": 126,
   "id": "3d12b1c2",
   "metadata": {},
   "outputs": [
    {
     "data": {
      "text/plain": [
       "5.45"
      ]
     },
     "execution_count": 126,
     "metadata": {},
     "output_type": "execute_result"
    }
   ],
   "source": [
    "mu_s "
   ]
  },
  {
   "cell_type": "code",
   "execution_count": 1,
   "id": "2c327cad",
   "metadata": {},
   "outputs": [],
   "source": [
    "import numpy as np"
   ]
  },
  {
   "cell_type": "code",
   "execution_count": 305,
   "id": "d55a5a01",
   "metadata": {},
   "outputs": [],
   "source": [
    "a = 0\n",
    "b = 0.2"
   ]
  },
  {
   "cell_type": "code",
   "execution_count": 439,
   "id": "bd59f933",
   "metadata": {},
   "outputs": [],
   "source": [
    "y = np.random.normal(0, 1, 1000)"
   ]
  },
  {
   "cell_type": "code",
   "execution_count": 440,
   "id": "6ddfc2f5",
   "metadata": {},
   "outputs": [],
   "source": [
    "rho = np.sqrt(1-0.8**2)"
   ]
  },
  {
   "cell_type": "code",
   "execution_count": 441,
   "id": "0d580186",
   "metadata": {},
   "outputs": [
    {
     "data": {
      "text/plain": [
       "0.5999999999999999"
      ]
     },
     "execution_count": 441,
     "metadata": {},
     "output_type": "execute_result"
    }
   ],
   "source": [
    "rho"
   ]
  },
  {
   "cell_type": "code",
   "execution_count": 442,
   "id": "3cf7b156",
   "metadata": {},
   "outputs": [],
   "source": [
    "#y_hat = np.random.normal(rho*y, np.sqrt(1-rho**2), 1000)\n",
    "y_hat = 0.59 * y + np.random.normal(0,0.5, 1000)"
   ]
  },
  {
   "cell_type": "code",
   "execution_count": 56,
   "id": "d9f7e635",
   "metadata": {},
   "outputs": [],
   "source": [
    "from matplotlib import pyplot as plt"
   ]
  },
  {
   "cell_type": "code",
   "execution_count": 444,
   "id": "303ff4d6",
   "metadata": {},
   "outputs": [
    {
     "data": {
      "text/plain": [
       "<matplotlib.collections.PathCollection at 0x1290124e0>"
      ]
     },
     "execution_count": 444,
     "metadata": {},
     "output_type": "execute_result"
    },
    {
     "data": {
      "image/png": "[encoded data removed]",
      "text/plain": [
       "<Figure size 432x288 with 1 Axes>"
      ]
     },
     "metadata": {
      "needs_background": "light"
     },
     "output_type": "display_data"
    }
   ],
   "source": [
    "plt.scatter(y_hat,y)"
   ]
  },
  {
   "cell_type": "code",
   "execution_count": 44,
   "id": "20bedcac",
   "metadata": {},
   "outputs": [],
   "source": [
    "from scipy.stats import pearsonr"
   ]
  },
  {
   "cell_type": "code",
   "execution_count": 446,
   "id": "cff487f3",
   "metadata": {},
   "outputs": [
    {
     "data": {
      "text/plain": [
       "(0.7500946852834101, 2.016021075797223e-181)"
      ]
     },
     "execution_count": 446,
     "metadata": {},
     "output_type": "execute_result"
    }
   ],
   "source": [
    "pearsonr(y , y_hat)"
   ]
  },
  {
   "cell_type": "code",
   "execution_count": 430,
   "id": "ae5b3e09",
   "metadata": {},
   "outputs": [],
   "source": [
    "x = y_hat/0.2+ np.random.normal(0,1, 1000)"
   ]
  },
  {
   "cell_type": "code",
   "execution_count": 43,
   "id": "a8534341",
   "metadata": {},
   "outputs": [],
   "source": [
    "import statsmodels.api as sm"
   ]
  },
  {
   "cell_type": "code",
   "execution_count": 432,
   "id": "0d0630f9",
   "metadata": {},
   "outputs": [],
   "source": [
    "x = sm.add_constant(x, prepend=False)"
   ]
  },
  {
   "cell_type": "code",
   "execution_count": 433,
   "id": "852f1652",
   "metadata": {},
   "outputs": [],
   "source": [
    "y = sm.add_constant(y, prepend=False)"
   ]
  },
  {
   "cell_type": "code",
   "execution_count": 434,
   "id": "036dddb3",
   "metadata": {},
   "outputs": [],
   "source": [
    "mod = sm.OLS(y_hat,y)\n",
    "res = mod.fit()"
   ]
  },
  {
   "cell_type": "code",
   "execution_count": 435,
   "id": "3801f6dc",
   "metadata": {},
   "outputs": [
    {
     "name": "stdout",
     "output_type": "stream",
     "text": [
      "                            OLS Regression Results                            \n",
      "==============================================================================\n",
      "Dep. Variable:                      y   R-squared:                       0.999\n",
      "Model:                            OLS   Adj. R-squared:                  0.999\n",
      "Method:                 Least Squares   F-statistic:                 8.194e+05\n",
      "Date:                Fri, 28 May 2021   Prob (F-statistic):               0.00\n",
      "Time:                        19:17:28   Log-Likelihood:                 2455.2\n",
      "No. Observations:                1000   AIC:                            -4906.\n",
      "Df Residuals:                     998   BIC:                            -4897.\n",
      "Df Model:                           1                                         \n",
      "Covariance Type:            nonrobust                                         \n",
      "==============================================================================\n",
      "                 coef    std err          t      P>|t|      [0.025      0.975]\n",
      "------------------------------------------------------------------------------\n",
      "x1             0.5896      0.001    905.218      0.000       0.588       0.591\n",
      "const         -0.0007      0.001     -1.059      0.290      -0.002       0.001\n",
      "==============================================================================\n",
      "Omnibus:                        0.133   Durbin-Watson:                   2.006\n",
      "Prob(Omnibus):                  0.936   Jarque-Bera (JB):                0.188\n",
      "Skew:                           0.022   Prob(JB):                        0.910\n",
      "Kurtosis:                       2.949   Cond. No.                         1.04\n",
      "==============================================================================\n",
      "\n",
      "Notes:\n",
      "[1] Standard Errors assume that the covariance matrix of the errors is correctly specified.\n"
     ]
    }
   ],
   "source": [
    "print(res.summary())"
   ]
  },
  {
   "cell_type": "code",
   "execution_count": 364,
   "id": "c9278646",
   "metadata": {},
   "outputs": [],
   "source": [
    "mod = sm.OLS(y_hat,x)\n",
    "res = mod.fit()"
   ]
  },
  {
   "cell_type": "code",
   "execution_count": 365,
   "id": "92801f01",
   "metadata": {},
   "outputs": [
    {
     "name": "stdout",
     "output_type": "stream",
     "text": [
      "                                 OLS Regression Results                                \n",
      "=======================================================================================\n",
      "Dep. Variable:                      y   R-squared (uncentered):                   0.968\n",
      "Model:                            OLS   Adj. R-squared (uncentered):              0.968\n",
      "Method:                 Least Squares   F-statistic:                          2.980e+04\n",
      "Date:                Fri, 28 May 2021   Prob (F-statistic):                        0.00\n",
      "Time:                        19:05:36   Log-Likelihood:                          213.23\n",
      "No. Observations:                1000   AIC:                                     -424.5\n",
      "Df Residuals:                     999   BIC:                                     -419.6\n",
      "Df Model:                           1                                                  \n",
      "Covariance Type:            nonrobust                                                  \n",
      "==============================================================================\n",
      "                 coef    std err          t      P>|t|      [0.025      0.975]\n",
      "------------------------------------------------------------------------------\n",
      "x1             0.1930      0.001    172.633      0.000       0.191       0.195\n",
      "==============================================================================\n",
      "Omnibus:                        0.695   Durbin-Watson:                   2.047\n",
      "Prob(Omnibus):                  0.706   Jarque-Bera (JB):                0.566\n",
      "Skew:                          -0.007   Prob(JB):                        0.753\n",
      "Kurtosis:                       3.116   Cond. No.                         1.00\n",
      "==============================================================================\n",
      "\n",
      "Notes:\n",
      "[1] R² is computed without centering (uncentered) since the model does not contain a constant.\n",
      "[2] Standard Errors assume that the covariance matrix of the errors is correctly specified.\n"
     ]
    }
   ],
   "source": [
    "print(res.summary())"
   ]
  },
  {
   "cell_type": "code",
   "execution_count": 297,
   "id": "395f45e4",
   "metadata": {},
   "outputs": [
    {
     "data": {
      "text/plain": [
       "830.5819592436072"
      ]
     },
     "execution_count": 297,
     "metadata": {},
     "output_type": "execute_result"
    }
   ],
   "source": [
    "sum((y-y_hat)**2)/np.var(y)"
   ]
  },
  {
   "cell_type": "code",
   "execution_count": 45,
   "id": "414f8d31",
   "metadata": {},
   "outputs": [],
   "source": [
    "x =  np.random.normal(10, 1, 1000)"
   ]
  },
  {
   "cell_type": "code",
   "execution_count": 46,
   "id": "a90e4ed3",
   "metadata": {},
   "outputs": [],
   "source": [
    "y = 0.3 * x + np.random.normal(0,0.08,1000)"
   ]
  },
  {
   "cell_type": "code",
   "execution_count": 47,
   "id": "5b7bb0e0",
   "metadata": {},
   "outputs": [
    {
     "data": {
      "text/plain": [
       "0.0030210372014409332"
      ]
     },
     "execution_count": 47,
     "metadata": {},
     "output_type": "execute_result"
    }
   ],
   "source": [
    "0.05496396275234286**2"
   ]
  },
  {
   "cell_type": "code",
   "execution_count": 48,
   "id": "9a917288",
   "metadata": {},
   "outputs": [],
   "source": [
    "x = sm.add_constant(x)\n",
    "mod = sm.OLS(y,x)\n",
    "res = mod.fit()"
   ]
  },
  {
   "cell_type": "code",
   "execution_count": 51,
   "id": "60d89a5c",
   "metadata": {},
   "outputs": [
    {
     "data": {
      "text/plain": [
       "0.9258229489989425"
      ]
     },
     "execution_count": 51,
     "metadata": {},
     "output_type": "execute_result"
    }
   ],
   "source": [
    "res.rsquared"
   ]
  },
  {
   "cell_type": "code",
   "execution_count": 529,
   "id": "bd5eb100",
   "metadata": {},
   "outputs": [
    {
     "name": "stdout",
     "output_type": "stream",
     "text": [
      "                            OLS Regression Results                            \n",
      "==============================================================================\n",
      "Dep. Variable:                      y   R-squared:                       0.934\n",
      "Model:                            OLS   Adj. R-squared:                  0.934\n",
      "Method:                 Least Squares   F-statistic:                 1.423e+04\n",
      "Date:                Sat, 29 May 2021   Prob (F-statistic):               0.00\n",
      "Time:                        10:17:42   Log-Likelihood:                 1109.4\n",
      "No. Observations:                1000   AIC:                            -2215.\n",
      "Df Residuals:                     998   BIC:                            -2205.\n",
      "Df Model:                           1                                         \n",
      "Covariance Type:            nonrobust                                         \n",
      "==============================================================================\n",
      "                 coef    std err          t      P>|t|      [0.025      0.975]\n",
      "------------------------------------------------------------------------------\n",
      "const         -0.0024      0.025     -0.093      0.926      -0.052       0.047\n",
      "x1             0.3002      0.003    119.305      0.000       0.295       0.305\n",
      "==============================================================================\n",
      "Omnibus:                        0.279   Durbin-Watson:                   2.014\n",
      "Prob(Omnibus):                  0.870   Jarque-Bera (JB):                0.185\n",
      "Skew:                           0.016   Prob(JB):                        0.911\n",
      "Kurtosis:                       3.059   Cond. No.                         102.\n",
      "==============================================================================\n",
      "\n",
      "Notes:\n",
      "[1] Standard Errors assume that the covariance matrix of the errors is correctly specified.\n"
     ]
    }
   ],
   "source": [
    "print(res.summary())"
   ]
  },
  {
   "cell_type": "code",
   "execution_count": 25,
   "id": "11b70e15",
   "metadata": {},
   "outputs": [],
   "source": [
    "y = np.random.normal(0, np.sqrt(0.4), 1000)"
   ]
  },
  {
   "cell_type": "code",
   "execution_count": 26,
   "id": "f891fe74",
   "metadata": {},
   "outputs": [],
   "source": [
    "e = np.random.normal(0, np.sqrt(0.4), 1000)"
   ]
  },
  {
   "cell_type": "code",
   "execution_count": 27,
   "id": "d723c8ea",
   "metadata": {},
   "outputs": [],
   "source": [
    "y_hat = y-e"
   ]
  },
  {
   "cell_type": "code",
   "execution_count": 28,
   "id": "4e2e7a7d",
   "metadata": {},
   "outputs": [
    {
     "data": {
      "text/plain": [
       "0.7359728948295668"
      ]
     },
     "execution_count": 28,
     "metadata": {},
     "output_type": "execute_result"
    }
   ],
   "source": [
    "np.var(y_hat)"
   ]
  },
  {
   "cell_type": "code",
   "execution_count": 29,
   "id": "ddbdbda1",
   "metadata": {},
   "outputs": [
    {
     "data": {
      "text/plain": [
       "0.3950135487656449"
      ]
     },
     "execution_count": 29,
     "metadata": {},
     "output_type": "execute_result"
    }
   ],
   "source": [
    "np.var(y-y_hat)"
   ]
  },
  {
   "cell_type": "code",
   "execution_count": 123,
   "id": "60df889c",
   "metadata": {},
   "outputs": [],
   "source": [
    "x =np.random.normal(0, 1, 1000)"
   ]
  },
  {
   "cell_type": "code",
   "execution_count": 134,
   "id": "a60bad21",
   "metadata": {},
   "outputs": [],
   "source": [
    "rsquared_list = []\n",
    "res_var_list = []\n",
    "for i in np.arange(0, 1, 0.01):\n",
    "    y = 0.2*x + np.random.normal(0, i, 1000)\n",
    "    xx = sm.add_constant(x)\n",
    "    mod = sm.OLS(y,xx)\n",
    "    res = mod.fit()\n",
    "    rsquared_list.append(res.rsquared)\n",
    "    res_var_list.append(np.var(res.resid))\n",
    "    #print(res.rsquared)"
   ]
  },
  {
   "cell_type": "code",
   "execution_count": 135,
   "id": "11c69dc3",
   "metadata": {},
   "outputs": [
    {
     "data": {
      "text/plain": [
       "<matplotlib.collections.PathCollection at 0x120cfe908>"
      ]
     },
     "execution_count": 135,
     "metadata": {},
     "output_type": "execute_result"
    },
    {
     "data": {
      "image/png": "[encoded data removed]",
      "text/plain": [
       "<Figure size 432x288 with 1 Axes>"
      ]
     },
     "metadata": {
      "needs_background": "light"
     },
     "output_type": "display_data"
    }
   ],
   "source": [
    "plt.scatter( np.arange(0, 1, 0.01),rsquared_list)"
   ]
  },
  {
   "cell_type": "code",
   "execution_count": 136,
   "id": "76272361",
   "metadata": {},
   "outputs": [
    {
     "data": {
      "text/plain": [
       "0.005214311462100385"
      ]
     },
     "execution_count": 136,
     "metadata": {},
     "output_type": "execute_result"
    }
   ],
   "source": [
    "np.min(np.abs(np.array(rsquared_list)-0.8))"
   ]
  },
  {
   "cell_type": "code",
   "execution_count": 137,
   "id": "fa47855c",
   "metadata": {},
   "outputs": [],
   "source": [
    "el = list(np.abs(np.array(rsquared_list)-0.8))"
   ]
  },
  {
   "cell_type": "code",
   "execution_count": 138,
   "id": "24093b55",
   "metadata": {},
   "outputs": [
    {
     "data": {
      "text/plain": [
       "10"
      ]
     },
     "execution_count": 138,
     "metadata": {},
     "output_type": "execute_result"
    }
   ],
   "source": [
    "el.index(np.min(np.abs(np.array(rsquared_list)-0.8)))"
   ]
  },
  {
   "cell_type": "code",
   "execution_count": 139,
   "id": "2d2b6cea",
   "metadata": {},
   "outputs": [
    {
     "data": {
      "text/plain": [
       "0.1"
      ]
     },
     "execution_count": 139,
     "metadata": {},
     "output_type": "execute_result"
    }
   ],
   "source": [
    "np.arange(0, 1, 0.01)[10]"
   ]
  },
  {
   "cell_type": "code",
   "execution_count": null,
   "id": "e91c0db9",
   "metadata": {},
   "outputs": [],
   "source": [
    "x =np.random.normal(0, 1, 1000)"
   ]
  },
  {
   "cell_type": "code",
   "execution_count": 177,
   "id": "8e655db1",
   "metadata": {},
   "outputs": [],
   "source": [
    "beta = 0.2\n",
    "x_var = 10\n",
    "s = beta**2*x_var/0.8 * 0.2"
   ]
  },
  {
   "cell_type": "code",
   "execution_count": 178,
   "id": "4409a833",
   "metadata": {},
   "outputs": [],
   "source": [
    "x =np.random.normal(0, np.sqrt(x_var), 1000)"
   ]
  },
  {
   "cell_type": "code",
   "execution_count": 179,
   "id": "0c6e2b69",
   "metadata": {},
   "outputs": [],
   "source": [
    "y = beta*x + np.random.normal(0, np.sqrt(s), 1000)\n",
    "xx = sm.add_constant(x)\n",
    "mod = sm.OLS(y,xx)\n",
    "res = mod.fit()"
   ]
  },
  {
   "cell_type": "code",
   "execution_count": 180,
   "id": "6107db85",
   "metadata": {},
   "outputs": [
    {
     "data": {
      "text/html": [
       "<table class=\"simpletable\">\n",
       "<caption>OLS Regression Results</caption>\n",
       "<tr>\n",
       "  <th>Dep. Variable:</th>            <td>y</td>        <th>  R-squared:         </th> <td>   0.792</td>\n",
       "</tr>\n",
       "<tr>\n",
       "  <th>Model:</th>                   <td>OLS</td>       <th>  Adj. R-squared:    </th> <td>   0.792</td>\n",
       "</tr>\n",
       "<tr>\n",
       "  <th>Method:</th>             <td>Least Squares</td>  <th>  F-statistic:       </th> <td>   3801.</td>\n",
       "</tr>\n",
       "<tr>\n",
       "  <th>Date:</th>             <td>Sat, 29 May 2021</td> <th>  Prob (F-statistic):</th>  <td>  0.00</td> \n",
       "</tr>\n",
       "<tr>\n",
       "  <th>Time:</th>                 <td>13:26:14</td>     <th>  Log-Likelihood:    </th> <td> -267.85</td>\n",
       "</tr>\n",
       "<tr>\n",
       "  <th>No. Observations:</th>      <td>  1000</td>      <th>  AIC:               </th> <td>   539.7</td>\n",
       "</tr>\n",
       "<tr>\n",
       "  <th>Df Residuals:</th>          <td>   998</td>      <th>  BIC:               </th> <td>   549.5</td>\n",
       "</tr>\n",
       "<tr>\n",
       "  <th>Df Model:</th>              <td>     1</td>      <th>                     </th>     <td> </td>   \n",
       "</tr>\n",
       "<tr>\n",
       "  <th>Covariance Type:</th>      <td>nonrobust</td>    <th>                     </th>     <td> </td>   \n",
       "</tr>\n",
       "</table>\n",
       "<table class=\"simpletable\">\n",
       "<tr>\n",
       "    <td></td>       <th>coef</th>     <th>std err</th>      <th>t</th>      <th>P>|t|</th>  <th>[0.025</th>    <th>0.975]</th>  \n",
       "</tr>\n",
       "<tr>\n",
       "  <th>const</th> <td>    0.0127</td> <td>    0.010</td> <td>    1.273</td> <td> 0.203</td> <td>   -0.007</td> <td>    0.032</td>\n",
       "</tr>\n",
       "<tr>\n",
       "  <th>x1</th>    <td>    0.1992</td> <td>    0.003</td> <td>   61.655</td> <td> 0.000</td> <td>    0.193</td> <td>    0.206</td>\n",
       "</tr>\n",
       "</table>\n",
       "<table class=\"simpletable\">\n",
       "<tr>\n",
       "  <th>Omnibus:</th>       <td> 0.573</td> <th>  Durbin-Watson:     </th> <td>   1.956</td>\n",
       "</tr>\n",
       "<tr>\n",
       "  <th>Prob(Omnibus):</th> <td> 0.751</td> <th>  Jarque-Bera (JB):  </th> <td>   0.653</td>\n",
       "</tr>\n",
       "<tr>\n",
       "  <th>Skew:</th>          <td> 0.047</td> <th>  Prob(JB):          </th> <td>   0.722</td>\n",
       "</tr>\n",
       "<tr>\n",
       "  <th>Kurtosis:</th>      <td> 2.917</td> <th>  Cond. No.          </th> <td>    3.10</td>\n",
       "</tr>\n",
       "</table><br/><br/>Notes:<br/>[1] Standard Errors assume that the covariance matrix of the errors is correctly specified."
      ],
      "text/plain": [
       "<class 'statsmodels.iolib.summary.Summary'>\n",
       "\"\"\"\n",
       "                            OLS Regression Results                            \n",
       "==============================================================================\n",
       "Dep. Variable:                      y   R-squared:                       0.792\n",
       "Model:                            OLS   Adj. R-squared:                  0.792\n",
       "Method:                 Least Squares   F-statistic:                     3801.\n",
       "Date:                Sat, 29 May 2021   Prob (F-statistic):               0.00\n",
       "Time:                        13:26:14   Log-Likelihood:                -267.85\n",
       "No. Observations:                1000   AIC:                             539.7\n",
       "Df Residuals:                     998   BIC:                             549.5\n",
       "Df Model:                           1                                         \n",
       "Covariance Type:            nonrobust                                         \n",
       "==============================================================================\n",
       "                 coef    std err          t      P>|t|      [0.025      0.975]\n",
       "------------------------------------------------------------------------------\n",
       "const          0.0127      0.010      1.273      0.203      -0.007       0.032\n",
       "x1             0.1992      0.003     61.655      0.000       0.193       0.206\n",
       "==============================================================================\n",
       "Omnibus:                        0.573   Durbin-Watson:                   1.956\n",
       "Prob(Omnibus):                  0.751   Jarque-Bera (JB):                0.653\n",
       "Skew:                           0.047   Prob(JB):                        0.722\n",
       "Kurtosis:                       2.917   Cond. No.                         3.10\n",
       "==============================================================================\n",
       "\n",
       "Notes:\n",
       "[1] Standard Errors assume that the covariance matrix of the errors is correctly specified.\n",
       "\"\"\""
      ]
     },
     "execution_count": 180,
     "metadata": {},
     "output_type": "execute_result"
    }
   ],
   "source": [
    "res.summary()"
   ]
  },
  {
   "cell_type": "code",
   "execution_count": 74,
   "id": "cd844079",
   "metadata": {},
   "outputs": [
    {
     "data": {
      "text/plain": [
       "<matplotlib.collections.PathCollection at 0x120d419e8>"
      ]
     },
     "execution_count": 74,
     "metadata": {},
     "output_type": "execute_result"
    },
    {
     "data": {
      "image/png": "[encoded data removed]",
      "text/plain": [
       "<Figure size 432x288 with 1 Axes>"
      ]
     },
     "metadata": {
      "needs_background": "light"
     },
     "output_type": "display_data"
    }
   ],
   "source": [
    "plt.scatter( np.arange(0, 1, 0.01)**2,res_var_list)"
   ]
  },
  {
   "cell_type": "code",
   "execution_count": 161,
   "id": "bc9cffde",
   "metadata": {},
   "outputs": [
    {
     "name": "stdout",
     "output_type": "stream",
     "text": [
      "                            OLS Regression Results                            \n",
      "==============================================================================\n",
      "Dep. Variable:                      y   R-squared:                       0.783\n",
      "Model:                            OLS   Adj. R-squared:                  0.783\n",
      "Method:                 Least Squares   F-statistic:                     3610.\n",
      "Date:                Sat, 29 May 2021   Prob (F-statistic):               0.00\n",
      "Time:                        13:20:08   Log-Likelihood:                 874.66\n",
      "No. Observations:                1000   AIC:                            -1745.\n",
      "Df Residuals:                     998   BIC:                            -1735.\n",
      "Df Model:                           1                                         \n",
      "Covariance Type:            nonrobust                                         \n",
      "==============================================================================\n",
      "                 coef    std err          t      P>|t|      [0.025      0.975]\n",
      "------------------------------------------------------------------------------\n",
      "const      -2.176e-05      0.003     -0.007      0.995      -0.006       0.006\n",
      "x1             0.1956      0.003     60.085      0.000       0.189       0.202\n",
      "==============================================================================\n",
      "Omnibus:                        1.665   Durbin-Watson:                   2.013\n",
      "Prob(Omnibus):                  0.435   Jarque-Bera (JB):                1.670\n",
      "Skew:                          -0.055   Prob(JB):                        0.434\n",
      "Kurtosis:                       2.833   Cond. No.                         1.02\n",
      "==============================================================================\n",
      "\n",
      "Notes:\n",
      "[1] Standard Errors assume that the covariance matrix of the errors is correctly specified.\n"
     ]
    }
   ],
   "source": [
    "x = np.random.normal(0, 1, 1000)\n",
    "e = np.random.normal(0, np.sqrt(0.2*0.04/0.8), 1000)\n",
    "y = 0.2*x + e\n",
    "xx = sm.add_constant(x)\n",
    "mod = sm.OLS(y,xx)\n",
    "res = mod.fit()\n",
    "print(res.summary())"
   ]
  },
  {
   "cell_type": "code",
   "execution_count": 106,
   "id": "286464c4",
   "metadata": {},
   "outputs": [
    {
     "data": {
      "text/plain": [
       "0.049999999999999996"
      ]
     },
     "execution_count": 106,
     "metadata": {},
     "output_type": "execute_result"
    }
   ],
   "source": [
    "0.04/0.8"
   ]
  },
  {
   "cell_type": "code",
   "execution_count": 107,
   "id": "24b30bc6",
   "metadata": {},
   "outputs": [
    {
     "data": {
      "text/plain": [
       "0.042125886036085414"
      ]
     },
     "execution_count": 107,
     "metadata": {},
     "output_type": "execute_result"
    }
   ],
   "source": [
    "np.var(y)"
   ]
  },
  {
   "cell_type": "code",
   "execution_count": 108,
   "id": "fdd34beb",
   "metadata": {},
   "outputs": [
    {
     "data": {
      "text/plain": [
       "0.002064377709247821"
      ]
     },
     "execution_count": 108,
     "metadata": {},
     "output_type": "execute_result"
    }
   ],
   "source": [
    "np.var(res.resid)"
   ]
  },
  {
   "cell_type": "code",
   "execution_count": 109,
   "id": "99eb61fc",
   "metadata": {},
   "outputs": [
    {
     "data": {
      "text/plain": [
       "0.04900496828670753"
      ]
     },
     "execution_count": 109,
     "metadata": {},
     "output_type": "execute_result"
    }
   ],
   "source": [
    "np.var(res.resid)/np.var(y)"
   ]
  },
  {
   "cell_type": "code",
   "execution_count": null,
   "id": "81014753",
   "metadata": {},
   "outputs": [],
   "source": []
  }
 ],
 "metadata": {
  "kernelspec": {
   "display_name": "Python 3",
   "language": "python",
   "name": "python3"
  },
  "language_info": {
   "codemirror_mode": {
    "name": "ipython",
    "version": 3
   },
   "file_extension": ".py",
   "mimetype": "text/x-python",
   "name": "python",
   "nbconvert_exporter": "python",
   "pygments_lexer": "ipython3",
   "version": "3.7.3"
  }
 },
 "nbformat": 4,
 "nbformat_minor": 5
}
